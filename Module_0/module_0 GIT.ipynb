{
 "cells": [
  {
   "cell_type": "code",
   "execution_count": 362,
   "metadata": {},
   "outputs": [
    {
     "data": {
      "text/plain": [
       "12"
      ]
     },
     "execution_count": 362,
     "metadata": {},
     "output_type": "execute_result"
    }
   ],
   "source": [
    "def guessnumber():\n",
    "# The functions is defined to guess a number from the lowest possible attempt\n",
    "    import numpy as np\n",
    "    number = np.random.randint(1,101)\n",
    "    counter = 0\n",
    "    #print (\"A number in range from 1 to 100 is chosen\")\n",
    "    predict = 10\n",
    "    while True:\n",
    "        # Firstly, it is trying to narrow down the range by adding 10 to the initial guess which is also 10\n",
    "        # However, if the number is equal to 10 or any number that can be devided by 10 it goes to the elif part\n",
    "        if predict > number:\n",
    "            counter += 1\n",
    "            for numbers in range(1,11):\n",
    "                if predict - numbers == number:\n",
    "                    counter += 1\n",
    "                    #print(\"Number of tries:\",counter) #the number is equal to predict - numbers\n",
    "                    return(counter)\n",
    "                    break\n",
    "                else:\n",
    "                    counter += 1\n",
    "            break\n",
    "        # Elif part checks whether the number is equal to any number that can be devided by 10 starting from 10\n",
    "        elif predict == number:\n",
    "            counter += 1\n",
    "            #print(counter)\n",
    "            return(counter)\n",
    "            break\n",
    "        else:\n",
    "            predict += 10\n",
    "            counter += 1\n",
    "guessnumber()"
   ]
  }
 ],
 "metadata": {
  "kernelspec": {
   "display_name": "Python 3",
   "language": "python",
   "name": "python3"
  },
  "language_info": {
   "codemirror_mode": {
    "name": "ipython",
    "version": 3
   },
   "file_extension": ".py",
   "mimetype": "text/x-python",
   "name": "python",
   "nbconvert_exporter": "python",
   "pygments_lexer": "ipython3",
   "version": "3.8.3"
  }
 },
 "nbformat": 4,
 "nbformat_minor": 4
}
